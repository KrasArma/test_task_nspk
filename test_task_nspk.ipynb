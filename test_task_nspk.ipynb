{
 "cells": [
  {
   "cell_type": "markdown",
   "metadata": {},
   "source": [
    "#### Описание игры \n",
    "##### Игровая программа лояльности \"Шанс\"\n",
    "##### Почта-Банк запустил игровую программу лояльности \"Шанс\". Чтобы выиграть кэшбэк, необходимо угадать сумму чисел, выпавших на двух кубиках. Найдем наиболее выигрышную сумму.\n",
    "###### Ссылка на источник: https://www.pochtabank.ru/news/676316"
   ]
  },
  {
   "cell_type": "markdown",
   "metadata": {},
   "source": [
    "#### Импорт библиотек"
   ]
  },
  {
   "cell_type": "code",
   "execution_count": null,
   "metadata": {},
   "outputs": [],
   "source": [
    "from collections import Counter"
   ]
  },
  {
   "cell_type": "markdown",
   "metadata": {},
   "source": [
    "### Задача 1\n",
    "#### Наиболее выигрышная сумма на двух кубиках\n"
   ]
  },
  {
   "cell_type": "code",
   "execution_count": null,
   "metadata": {},
   "outputs": [],
   "source": [
    "def most_common_sum_two_dice():\n",
    "    sums = []\n",
    "    for die1 in range(1, 7):\n",
    "        for die2 in range(1, 7):\n",
    "            sums.append(die1 + die2)\n",
    "    count_sums = Counter(sums)\n",
    "    most_common_sum, frequency = count_sums.most_common(1)[0]\n",
    "    return most_common_sum, frequency\n",
    "\n",
    "most_common_sum, frequency = most_common_sum_two_dice()\n",
    "print(f\"Наиболее выигрышная сумма при броске двух кубиков: {most_common_sum}, встречается {frequency} раз(а)\")"
   ]
  },
  {
   "cell_type": "markdown",
   "metadata": {},
   "source": [
    "### Задача 2\n",
    "#### Наиболее выигрышная сумма на трех кубиках"
   ]
  },
  {
   "cell_type": "code",
   "execution_count": null,
   "metadata": {},
   "outputs": [],
   "source": [
    "def most_common_sum_three_dice():\n",
    "    sums = []\n",
    "    for die1 in range(1, 7):\n",
    "        for die2 in range(1, 7):\n",
    "            for die3 in range(1, 7):\n",
    "                sums.append(die1 + die2 + die3)\n",
    "    count_sums = Counter(sums)\n",
    "    most_common_sum, frequency = count_sums.most_common(1)[0]   \n",
    "    return most_common_sum, frequency\n",
    "\n",
    "most_common_sum, frequency = most_common_sum_three_dice()\n",
    "print(f\"Наиболее выигрышная сумма при броске трех кубиков: {most_common_sum}, встречается {frequency} раз(а)\")"
   ]
  }
 ],
 "metadata": {
  "language_info": {
   "name": "python"
  }
 },
 "nbformat": 4,
 "nbformat_minor": 2
}
